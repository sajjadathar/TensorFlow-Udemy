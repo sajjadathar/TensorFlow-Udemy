{
  "nbformat": 4,
  "nbformat_minor": 0,
  "metadata": {
    "colab": {
      "provenance": [],
      "mount_file_id": "1B_iL5CdfG51NeLpK74YL9YW76gA8Gp1J",
      "authorship_tag": "ABX9TyOfdXNLWHNmAxYwugPr5qwW",
      "include_colab_link": true
    },
    "kernelspec": {
      "name": "python3",
      "display_name": "Python 3"
    },
    "language_info": {
      "name": "python"
    }
  },
  "cells": [
    {
      "cell_type": "markdown",
      "metadata": {
        "id": "view-in-github",
        "colab_type": "text"
      },
      "source": [
        "<a href=\"https://colab.research.google.com/github/sajjadathar/TensorFlow-Udemy/blob/main/scraping_github_topics_repositories.ipynb\" target=\"_parent\"><img src=\"https://colab.research.google.com/assets/colab-badge.svg\" alt=\"Open In Colab\"/></a>"
      ]
    },
    {
      "cell_type": "markdown",
      "source": [
        "# Top Repositories for GitHub topics"
      ],
      "metadata": {
        "id": "4Im2TbnsGcpN"
      }
    },
    {
      "cell_type": "markdown",
      "source": [
        "### Pick a website and describe your objective\n",
        "\n",
        "* Browse through different sites and pick on to scrape. Check the \"Project Ideas\" section for inspiration.\n",
        "* Identify the information you'd like to scrape from the site. Decide the format of the output CSV file.\n",
        "* Summarize your project idea and outline your strategy in a Juptyer notebook. Use the \"New\" button above."
      ],
      "metadata": {
        "id": "oQNcpcTlEUhU"
      }
    },
    {
      "cell_type": "markdown",
      "source": [
        "### Use the requests library to download web pages"
      ],
      "metadata": {
        "id": "x_xtCX1PFq67"
      }
    },
    {
      "cell_type": "code",
      "source": [
        "!pip install requests --upgrade --quiet"
      ],
      "metadata": {
        "id": "4El6itMHGJ8J"
      },
      "execution_count": 2,
      "outputs": []
    },
    {
      "cell_type": "code",
      "source": [
        "import requests"
      ],
      "metadata": {
        "id": "ujqlpOQlJr72"
      },
      "execution_count": 2,
      "outputs": []
    },
    {
      "cell_type": "code",
      "source": [
        "topic_url = 'https://github.com/topics'"
      ],
      "metadata": {
        "id": "I0CQgAimJxc7"
      },
      "execution_count": 3,
      "outputs": []
    },
    {
      "cell_type": "code",
      "source": [
        "response = requests.get(topic_url)"
      ],
      "metadata": {
        "id": "e-q-JRozJxr7"
      },
      "execution_count": 4,
      "outputs": []
    },
    {
      "cell_type": "code",
      "source": [
        "response.status_code"
      ],
      "metadata": {
        "colab": {
          "base_uri": "https://localhost:8080/"
        },
        "id": "KUccMQ47LGgx",
        "outputId": "bd030134-bfe0-48e7-b91c-0c201b18a038"
      },
      "execution_count": 5,
      "outputs": [
        {
          "output_type": "execute_result",
          "data": {
            "text/plain": [
              "200"
            ]
          },
          "metadata": {},
          "execution_count": 5
        }
      ]
    },
    {
      "cell_type": "code",
      "source": [
        "page_contents = response.text"
      ],
      "metadata": {
        "id": "-cRqvnB2m74b"
      },
      "execution_count": 8,
      "outputs": []
    },
    {
      "cell_type": "code",
      "source": [
        "page_contents[:1000]"
      ],
      "metadata": {
        "colab": {
          "base_uri": "https://localhost:8080/",
          "height": 157
        },
        "id": "jFYp56XTnDfW",
        "outputId": "89aee882-e335-402f-ed42-256b1a2f8f35"
      },
      "execution_count": 9,
      "outputs": [
        {
          "output_type": "execute_result",
          "data": {
            "text/plain": [
              "'\\n\\n<!DOCTYPE html>\\n<html lang=\"en\" data-color-mode=\"auto\" data-light-theme=\"light\" data-dark-theme=\"dark\"  data-a11y-animated-images=\"system\">\\n  <head>\\n    <meta charset=\"utf-8\">\\n  <link rel=\"dns-prefetch\" href=\"https://github.githubassets.com\">\\n  <link rel=\"dns-prefetch\" href=\"https://avatars.githubusercontent.com\">\\n  <link rel=\"dns-prefetch\" href=\"https://github-cloud.s3.amazonaws.com\">\\n  <link rel=\"dns-prefetch\" href=\"https://user-images.githubusercontent.com/\">\\n  <link rel=\"preconnect\" href=\"https://github.githubassets.com\" crossorigin>\\n  <link rel=\"preconnect\" href=\"https://avatars.githubusercontent.com\">\\n\\n  \\n\\n  <link crossorigin=\"anonymous\" media=\"all\" rel=\"stylesheet\" href=\"https://github.githubassets.com/assets/light-946902aac6a1.css\" /><link crossorigin=\"anonymous\" media=\"all\" rel=\"stylesheet\" href=\"https://github.githubassets.com/assets/dark-030e28cb8394.css\" /><link data-color-theme=\"dark_dimmed\" crossorigin=\"anonymous\" media=\"all\" rel=\"stylesheet\" data-href=\"https://github.g'"
            ],
            "application/vnd.google.colaboratory.intrinsic+json": {
              "type": "string"
            }
          },
          "metadata": {},
          "execution_count": 9
        }
      ]
    },
    {
      "cell_type": "code",
      "source": [
        "with open ('webpage.html', 'w') as f:\n",
        "  f.write(page_contents)"
      ],
      "metadata": {
        "id": "h1W0upfCnefL"
      },
      "execution_count": 10,
      "outputs": []
    },
    {
      "cell_type": "code",
      "source": [
        "len(response.text)"
      ],
      "metadata": {
        "colab": {
          "base_uri": "https://localhost:8080/"
        },
        "id": "giqvczfZmu2G",
        "outputId": "846330c5-3484-4144-9182-47e7f90a463b"
      },
      "execution_count": 7,
      "outputs": [
        {
          "output_type": "execute_result",
          "data": {
            "text/plain": [
              "156322"
            ]
          },
          "metadata": {},
          "execution_count": 7
        }
      ]
    },
    {
      "cell_type": "markdown",
      "source": [
        "### Use Beautiful Soup to parse and extract information"
      ],
      "metadata": {
        "id": "0uUbP5qVGNEt"
      }
    },
    {
      "cell_type": "code",
      "source": [],
      "metadata": {
        "id": "fTwTZskoGP3Z"
      },
      "execution_count": null,
      "outputs": []
    },
    {
      "cell_type": "markdown",
      "source": [
        "### Create CSV file(s) with the extracted information"
      ],
      "metadata": {
        "id": "u2LG0GMyGQfK"
      }
    },
    {
      "cell_type": "code",
      "source": [],
      "metadata": {
        "id": "o7PC7WaXGTnG"
      },
      "execution_count": null,
      "outputs": []
    },
    {
      "cell_type": "markdown",
      "source": [
        "### Document and share your work"
      ],
      "metadata": {
        "id": "87K8iOS5GWcg"
      }
    },
    {
      "cell_type": "code",
      "source": [],
      "metadata": {
        "id": "2WlBmY5TGYFD"
      },
      "execution_count": null,
      "outputs": []
    }
  ]
}